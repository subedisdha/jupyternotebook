{
 "cells": [
  {
   "cell_type": "markdown",
   "id": "a54feb57-62b7-499a-848d-c91d8e7f02a6",
   "metadata": {},
   "source": [
    "#Data Science Tools and Ecosystem"
   ]
  },
  {
   "cell_type": "markdown",
   "id": "f88842c8-f933-4da8-a114-012be193cb81",
   "metadata": {},
   "source": [
    "In this notebook, Data Science Tools and Ecosystem are summarized."
   ]
  },
  {
   "cell_type": "markdown",
   "id": "fd56c6fc-3b81-4026-98a8-294da75c74f8",
   "metadata": {},
   "source": [
    "Some of the popular languages that Data Scientists use are:\n",
    "1. Python\n",
    "2. R\n",
    "3. SQL"
   ]
  },
  {
   "cell_type": "markdown",
   "id": "08d72878-bac5-4f94-abb3-c548a63550dc",
   "metadata": {},
   "source": [
    "Some of the commonly used libraries used by Data Scientists include:\n",
    "1. Pandas\n",
    "2. Numpy\n",
    "3. Matplotlib"
   ]
  },
  {
   "cell_type": "markdown",
   "id": "271fe1d7-0df5-4a35-897d-e571a2f95bfb",
   "metadata": {},
   "source": [
    "| Data Science Tools |\n",
    "----------------------\n",
    "| R Studio|\n",
    "| Apache Spark|\n",
    "|Tensor Flow|"
   ]
  },
  {
   "cell_type": "markdown",
   "id": "2ebab1ec-f101-4216-91c7-9571ac0f5b64",
   "metadata": {},
   "source": [
    "### Below are a few examples of evaluating arithmetic expressions in Python\n"
   ]
  },
  {
   "cell_type": "code",
   "execution_count": 9,
   "id": "48480265-4991-4ae1-84f0-08504fc9226d",
   "metadata": {},
   "outputs": [
    {
     "data": {
      "text/plain": [
       "17"
      ]
     },
     "execution_count": 9,
     "metadata": {},
     "output_type": "execute_result"
    }
   ],
   "source": [
    "# This is a simple arithmetic expression to multiply then add integers\n",
    "(3*4)+5"
   ]
  },
  {
   "cell_type": "code",
   "execution_count": 18,
   "id": "3ac83608-06c1-4211-94f6-904d0c38c867",
   "metadata": {},
   "outputs": [
    {
     "name": "stdout",
     "output_type": "stream",
     "text": [
      "3.3333333333333335\n"
     ]
    }
   ],
   "source": [
    "# This will convert 200 minutes to hours by dividing by 60\n",
    "hour = 200 / 60;\n",
    "print(hour);"
   ]
  },
  {
   "cell_type": "markdown",
   "id": "3e4ace1f-33b4-4360-b8a8-1e77a4852741",
   "metadata": {},
   "source": [
    "**Objectives**\n",
    "* Python \n",
    "* R\n",
    "* SQL"
   ]
  },
  {
   "cell_type": "markdown",
   "id": "8d86902b-749a-4374-beeb-bae4b9cd4fae",
   "metadata": {},
   "source": [
    "## Author\n",
    "Shraddha Subedi"
   ]
  },
  {
   "cell_type": "code",
   "execution_count": null,
   "id": "1dc73a52-1d2a-4ae4-85fd-c87dcffd746d",
   "metadata": {},
   "outputs": [],
   "source": []
  }
 ],
 "metadata": {
  "kernelspec": {
   "display_name": "Python",
   "language": "python",
   "name": "conda-env-python-py"
  },
  "language_info": {
   "codemirror_mode": {
    "name": "ipython",
    "version": 3
   },
   "file_extension": ".py",
   "mimetype": "text/x-python",
   "name": "python",
   "nbconvert_exporter": "python",
   "pygments_lexer": "ipython3",
   "version": "3.7.12"
  }
 },
 "nbformat": 4,
 "nbformat_minor": 5
}
